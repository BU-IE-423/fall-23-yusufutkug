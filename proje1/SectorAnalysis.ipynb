{
 "cells": [
  {
   "cell_type": "code",
   "execution_count": 31,
   "metadata": {},
   "outputs": [],
   "source": [
    "import pandas as pd\n",
    "import numpy as np"
   ]
  },
  {
   "cell_type": "markdown",
   "metadata": {},
   "source": [
    "Define a list of stock tickers that will be analyzed and initialize an empty list to hold dataframes for each stock."
   ]
  },
  {
   "cell_type": "code",
   "execution_count": 32,
   "metadata": {},
   "outputs": [],
   "source": [
    "stocks=[\"AKBNK\",\"GARAN\",\"TRKCM\"]"
   ]
  },
  {
   "cell_type": "markdown",
   "metadata": {},
   "source": [
    "Loop through each stock ticker, load the outliers data from a CSV file into a dataframe, set the timestamp as the index, and remove the redundant timestamp column. Append each processed dataframe to the `dataframes` list."
   ]
  },
  {
   "cell_type": "code",
   "execution_count": 33,
   "metadata": {},
   "outputs": [],
   "source": [
    "dataframes=[]\n",
    "for stock in stocks:\n",
    "    df=pd.read_csv(\"outliers/\"+stock+\"_outliers.csv\")\n",
    "    df['timestamp'] = pd.to_datetime(df['timestamp'])\n",
    "    df = df.set_index(df['timestamp'])\n",
    "    df.drop(columns=[\"timestamp\"],inplace=True)\n",
    "    dataframes.append(df)"
   ]
  },
  {
   "cell_type": "markdown",
   "metadata": {},
   "source": [
    "Initialize the process to find common indices across all dataframes by iteratively finding the intersection of indices between each dataframe and the accumulated common indices."
   ]
  },
  {
   "cell_type": "code",
   "execution_count": 34,
   "metadata": {},
   "outputs": [],
   "source": [
    "for i in range(1,len(dataframes)):\n",
    "    if i==1:\n",
    "        common_indexs = dataframes[1].index.intersection(dataframes[0].index)\n",
    "    else:\n",
    "        common_indexs = dataframes[i].index.intersection(common_indexs)"
   ]
  },
  {
   "cell_type": "markdown",
   "metadata": {},
   "source": [
    "Intersect the final list of common indices with the indices from the last dataframe in the list to ensure all dataframes have been considered.\n"
   ]
  },
  {
   "cell_type": "code",
   "execution_count": 35,
   "metadata": {},
   "outputs": [],
   "source": [
    "common_indexs = df.index.intersection(common_indexs)"
   ]
  },
  {
   "cell_type": "markdown",
   "metadata": {},
   "source": [
    "The variable `common_indexs` now contains the indices that are present in all stock dataframes. This collection of dates can be used for further analysis, such as comparing the outliers on the same dates across different stocks."
   ]
  },
  {
   "cell_type": "code",
   "execution_count": 36,
   "metadata": {},
   "outputs": [
    {
     "data": {
      "text/plain": [
       "DatetimeIndex([], dtype='datetime64[ns]', name='timestamp', freq=None)"
      ]
     },
     "execution_count": 36,
     "metadata": {},
     "output_type": "execute_result"
    }
   ],
   "source": [
    "common_indexs"
   ]
  }
 ],
 "metadata": {
  "kernelspec": {
   "display_name": "Python 3",
   "language": "python",
   "name": "python3"
  },
  "language_info": {
   "codemirror_mode": {
    "name": "ipython",
    "version": 3
   },
   "file_extension": ".py",
   "mimetype": "text/x-python",
   "name": "python",
   "nbconvert_exporter": "python",
   "pygments_lexer": "ipython3",
   "version": "3.12.0"
  }
 },
 "nbformat": 4,
 "nbformat_minor": 2
}
