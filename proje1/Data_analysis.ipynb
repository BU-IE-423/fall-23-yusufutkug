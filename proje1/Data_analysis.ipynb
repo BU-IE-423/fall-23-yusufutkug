{
 "cells": [
  {
   "cell_type": "code",
   "execution_count": 284,
   "metadata": {},
   "outputs": [],
   "source": [
    "import pandas as pd\n",
    "import numpy as np\n",
    "from datetime import timedelta\n",
    "from datetime import datetime\n",
    "import seaborn as sb\n",
    "import matplotlib.pyplot as plt\n"
   ]
  },
  {
   "cell_type": "markdown",
   "metadata": {},
   "source": [
    "Load the dataset"
   ]
  },
  {
   "cell_type": "code",
   "execution_count": 285,
   "metadata": {},
   "outputs": [],
   "source": [
    "df = pd.read_csv(\"all_ticks_long.csv\")"
   ]
  },
  {
   "cell_type": "markdown",
   "metadata": {},
   "source": [
    "Display the unique values in the 'short_name' column to check different stock names"
   ]
  },
  {
   "cell_type": "code",
   "execution_count": 286,
   "metadata": {},
   "outputs": [
    {
     "data": {
      "text/plain": [
       "array(['AEFES', 'AKBNK', 'AKSA', 'AKSEN', 'ALARK', 'ALBRK', 'ANACM',\n",
       "       'ARCLK', 'ASELS', 'ASUZU', 'AYGAZ', 'BAGFS', 'BANVT', 'BRISA',\n",
       "       'CCOLA', 'CEMAS', 'ECILC', 'EREGL', 'FROTO', 'GARAN', 'GOODY',\n",
       "       'GUBRF', 'HALKB', 'ICBCT', 'ISCTR', 'ISDMR', 'ISFIN', 'ISYAT',\n",
       "       'KAREL', 'KARSN', 'KCHOL', 'KRDMB', 'KRDMD', 'MGROS', 'OTKAR',\n",
       "       'PARSN', 'PETKM', 'PGSUS', 'PRKME', 'SAHOL', 'SASA', 'SISE',\n",
       "       'SKBNK', 'SODA', 'TCELL', 'THYAO', 'TKFEN', 'TOASO', 'TRKCM',\n",
       "       'TSKB', 'TTKOM', 'TUKAS', 'TUPRS', 'USAK', 'VAKBN', 'VESTL',\n",
       "       'YATAS', 'YKBNK', 'YUNSA', 'ZOREN'], dtype=object)"
      ]
     },
     "execution_count": 286,
     "metadata": {},
     "output_type": "execute_result"
    }
   ],
   "source": [
    "df[\"short_name\"].unique()"
   ]
  },
  {
   "cell_type": "markdown",
   "metadata": {},
   "source": [
    "Select a specific stock to analyze"
   ]
  },
  {
   "cell_type": "code",
   "execution_count": 287,
   "metadata": {},
   "outputs": [],
   "source": [
    "stock=\"TCELL\""
   ]
  },
  {
   "cell_type": "code",
   "execution_count": 288,
   "metadata": {},
   "outputs": [],
   "source": [
    "stock_df=df[df[\"short_name\"] ==stock]"
   ]
  },
  {
   "cell_type": "code",
   "execution_count": 289,
   "metadata": {},
   "outputs": [
    {
     "data": {
      "text/html": [
       "<div>\n",
       "<style scoped>\n",
       "    .dataframe tbody tr th:only-of-type {\n",
       "        vertical-align: middle;\n",
       "    }\n",
       "\n",
       "    .dataframe tbody tr th {\n",
       "        vertical-align: top;\n",
       "    }\n",
       "\n",
       "    .dataframe thead th {\n",
       "        text-align: right;\n",
       "    }\n",
       "</style>\n",
       "<table border=\"1\" class=\"dataframe\">\n",
       "  <thead>\n",
       "    <tr style=\"text-align: right;\">\n",
       "      <th></th>\n",
       "      <th>short_name</th>\n",
       "      <th>timestamp</th>\n",
       "      <th>price</th>\n",
       "    </tr>\n",
       "  </thead>\n",
       "  <tbody>\n",
       "    <tr>\n",
       "      <th>2075043</th>\n",
       "      <td>TCELL</td>\n",
       "      <td>2012-09-17T06:45:00Z</td>\n",
       "      <td>4.5359</td>\n",
       "    </tr>\n",
       "    <tr>\n",
       "      <th>2075044</th>\n",
       "      <td>TCELL</td>\n",
       "      <td>2012-09-17T07:00:00Z</td>\n",
       "      <td>4.5153</td>\n",
       "    </tr>\n",
       "    <tr>\n",
       "      <th>2075045</th>\n",
       "      <td>TCELL</td>\n",
       "      <td>2012-09-17T07:15:00Z</td>\n",
       "      <td>4.5153</td>\n",
       "    </tr>\n",
       "    <tr>\n",
       "      <th>2075046</th>\n",
       "      <td>TCELL</td>\n",
       "      <td>2012-09-17T07:30:00Z</td>\n",
       "      <td>4.5359</td>\n",
       "    </tr>\n",
       "    <tr>\n",
       "      <th>2075047</th>\n",
       "      <td>TCELL</td>\n",
       "      <td>2012-09-17T07:45:00Z</td>\n",
       "      <td>4.5153</td>\n",
       "    </tr>\n",
       "  </tbody>\n",
       "</table>\n",
       "</div>"
      ],
      "text/plain": [
       "        short_name             timestamp   price\n",
       "2075043      TCELL  2012-09-17T06:45:00Z  4.5359\n",
       "2075044      TCELL  2012-09-17T07:00:00Z  4.5153\n",
       "2075045      TCELL  2012-09-17T07:15:00Z  4.5153\n",
       "2075046      TCELL  2012-09-17T07:30:00Z  4.5359\n",
       "2075047      TCELL  2012-09-17T07:45:00Z  4.5153"
      ]
     },
     "execution_count": 289,
     "metadata": {},
     "output_type": "execute_result"
    }
   ],
   "source": [
    "stock_df.head()"
   ]
  },
  {
   "cell_type": "markdown",
   "metadata": {},
   "source": [
    "Convert the 'timestamp' column to datetime and localize it to 'Europe/Istanbul' time"
   ]
  },
  {
   "cell_type": "code",
   "execution_count": 290,
   "metadata": {},
   "outputs": [
    {
     "name": "stderr",
     "output_type": "stream",
     "text": [
      "C:\\Users\\Monster\\AppData\\Local\\Temp\\ipykernel_6616\\279024071.py:1: SettingWithCopyWarning: \n",
      "A value is trying to be set on a copy of a slice from a DataFrame.\n",
      "Try using .loc[row_indexer,col_indexer] = value instead\n",
      "\n",
      "See the caveats in the documentation: https://pandas.pydata.org/pandas-docs/stable/user_guide/indexing.html#returning-a-view-versus-a-copy\n",
      "  stock_df['timestamp'] = pd.to_datetime(stock_df['timestamp'])\n",
      "C:\\Users\\Monster\\AppData\\Local\\Temp\\ipykernel_6616\\279024071.py:2: SettingWithCopyWarning: \n",
      "A value is trying to be set on a copy of a slice from a DataFrame.\n",
      "Try using .loc[row_indexer,col_indexer] = value instead\n",
      "\n",
      "See the caveats in the documentation: https://pandas.pydata.org/pandas-docs/stable/user_guide/indexing.html#returning-a-view-versus-a-copy\n",
      "  stock_df['timestamp']  = stock_df['timestamp'].dt.tz_convert('Europe/Istanbul')\n"
     ]
    }
   ],
   "source": [
    "stock_df['timestamp'] = pd.to_datetime(stock_df['timestamp'])\n",
    "stock_df['timestamp']  = stock_df['timestamp'].dt.tz_convert('Europe/Istanbul')"
   ]
  },
  {
   "cell_type": "markdown",
   "metadata": {},
   "source": [
    "Remove the timezone information to avoid confusion"
   ]
  },
  {
   "cell_type": "code",
   "execution_count": 291,
   "metadata": {},
   "outputs": [],
   "source": [
    "\n",
    "stock_df = stock_df.set_index(stock_df['timestamp'])\n",
    "stock_df.index = stock_df.index.tz_localize(None)"
   ]
  },
  {
   "cell_type": "markdown",
   "metadata": {},
   "source": [
    "Define date limits for the analysis"
   ]
  },
  {
   "cell_type": "code",
   "execution_count": 292,
   "metadata": {},
   "outputs": [],
   "source": [
    "lwr_limit_date = \"2017-01-01\" \n",
    "middle_limit_date = \"2018-01-01\"\n",
    "uppr_limit_date =\"2019-01-01\""
   ]
  },
  {
   "cell_type": "markdown",
   "metadata": {},
   "source": [
    "Filter the dataframe based on the date limits"
   ]
  },
  {
   "cell_type": "code",
   "execution_count": 293,
   "metadata": {},
   "outputs": [],
   "source": [
    "stock_df = stock_df[stock_df.index > lwr_limit_date ]\n",
    "stock_df = stock_df[stock_df.index < uppr_limit_date]"
   ]
  },
  {
   "cell_type": "markdown",
   "metadata": {},
   "source": [
    "Resample the data to daily frequency, taking the last price each day"
   ]
  },
  {
   "cell_type": "code",
   "execution_count": 294,
   "metadata": {},
   "outputs": [],
   "source": [
    "day_stock_df=stock_df[\"price\"].groupby(pd.Grouper(freq=\"1440min\")).last().rename(\"Close\").to_frame()"
   ]
  },
  {
   "cell_type": "markdown",
   "metadata": {},
   "source": [
    "Drop NA"
   ]
  },
  {
   "cell_type": "code",
   "execution_count": 295,
   "metadata": {},
   "outputs": [],
   "source": [
    "day_stock_df.dropna(inplace=True)\n",
    "day_stock_df = day_stock_df[day_stock_df.index.weekday < 5]"
   ]
  },
  {
   "cell_type": "markdown",
   "metadata": {},
   "source": [
    "#### Feature Engineering"
   ]
  },
  {
   "cell_type": "code",
   "execution_count": 296,
   "metadata": {},
   "outputs": [],
   "source": [
    "day_stock_df[\"LagClose\"]=day_stock_df[\"Close\"].shift(1) # Create a lagged version of the close price for further analysis\n",
    "day_stock_df[\"Var\"]=stock_df[\"price\"].groupby(pd.Grouper(freq=\"1440min\")).var() # Calculate the variance of the price for each day\n",
    "day_stock_df[\"NormVar\"]=(day_stock_df['Var'] - day_stock_df['Var'].min()) / (day_stock_df['Var'].max() - day_stock_df['Var'].min()) # Normalize the variance to have it on a scale from 0 to 1"
   ]
  },
  {
   "cell_type": "code",
   "execution_count": 297,
   "metadata": {},
   "outputs": [
    {
     "data": {
      "text/html": [
       "<div>\n",
       "<style scoped>\n",
       "    .dataframe tbody tr th:only-of-type {\n",
       "        vertical-align: middle;\n",
       "    }\n",
       "\n",
       "    .dataframe tbody tr th {\n",
       "        vertical-align: top;\n",
       "    }\n",
       "\n",
       "    .dataframe thead th {\n",
       "        text-align: right;\n",
       "    }\n",
       "</style>\n",
       "<table border=\"1\" class=\"dataframe\">\n",
       "  <thead>\n",
       "    <tr style=\"text-align: right;\">\n",
       "      <th></th>\n",
       "      <th>Close</th>\n",
       "      <th>LagClose</th>\n",
       "      <th>Var</th>\n",
       "      <th>NormVar</th>\n",
       "    </tr>\n",
       "    <tr>\n",
       "      <th>timestamp</th>\n",
       "      <th></th>\n",
       "      <th></th>\n",
       "      <th></th>\n",
       "      <th></th>\n",
       "    </tr>\n",
       "  </thead>\n",
       "  <tbody>\n",
       "    <tr>\n",
       "      <th>2017-01-02</th>\n",
       "      <td>8.0025</td>\n",
       "      <td>NaN</td>\n",
       "      <td>0.000450</td>\n",
       "      <td>0.003060</td>\n",
       "    </tr>\n",
       "    <tr>\n",
       "      <th>2017-01-03</th>\n",
       "      <td>7.8353</td>\n",
       "      <td>8.0025</td>\n",
       "      <td>0.001250</td>\n",
       "      <td>0.010888</td>\n",
       "    </tr>\n",
       "    <tr>\n",
       "      <th>2017-01-04</th>\n",
       "      <td>8.0109</td>\n",
       "      <td>7.8353</td>\n",
       "      <td>0.001702</td>\n",
       "      <td>0.015311</td>\n",
       "    </tr>\n",
       "    <tr>\n",
       "      <th>2017-01-05</th>\n",
       "      <td>8.0946</td>\n",
       "      <td>8.0109</td>\n",
       "      <td>0.002097</td>\n",
       "      <td>0.019182</td>\n",
       "    </tr>\n",
       "    <tr>\n",
       "      <th>2017-01-06</th>\n",
       "      <td>8.2534</td>\n",
       "      <td>8.0946</td>\n",
       "      <td>0.002058</td>\n",
       "      <td>0.018802</td>\n",
       "    </tr>\n",
       "  </tbody>\n",
       "</table>\n",
       "</div>"
      ],
      "text/plain": [
       "             Close  LagClose       Var   NormVar\n",
       "timestamp                                       \n",
       "2017-01-02  8.0025       NaN  0.000450  0.003060\n",
       "2017-01-03  7.8353    8.0025  0.001250  0.010888\n",
       "2017-01-04  8.0109    7.8353  0.001702  0.015311\n",
       "2017-01-05  8.0946    8.0109  0.002097  0.019182\n",
       "2017-01-06  8.2534    8.0946  0.002058  0.018802"
      ]
     },
     "execution_count": 297,
     "metadata": {},
     "output_type": "execute_result"
    }
   ],
   "source": [
    "day_stock_df.head()"
   ]
  },
  {
   "cell_type": "code",
   "execution_count": 298,
   "metadata": {},
   "outputs": [
    {
     "name": "stdout",
     "output_type": "stream",
     "text": [
      "<class 'pandas.core.frame.DataFrame'>\n",
      "DatetimeIndex: 504 entries, 2017-01-02 to 2018-12-31\n",
      "Data columns (total 4 columns):\n",
      " #   Column    Non-Null Count  Dtype  \n",
      "---  ------    --------------  -----  \n",
      " 0   Close     504 non-null    float64\n",
      " 1   LagClose  503 non-null    float64\n",
      " 2   Var       504 non-null    float64\n",
      " 3   NormVar   504 non-null    float64\n",
      "dtypes: float64(4)\n",
      "memory usage: 19.7 KB\n"
     ]
    }
   ],
   "source": [
    "day_stock_df.info()"
   ]
  },
  {
   "cell_type": "code",
   "execution_count": 299,
   "metadata": {},
   "outputs": [],
   "source": [
    "day_stock_df.dropna(inplace=True)"
   ]
  },
  {
   "cell_type": "code",
   "execution_count": 300,
   "metadata": {},
   "outputs": [
    {
     "name": "stdout",
     "output_type": "stream",
     "text": [
      "<class 'pandas.core.frame.DataFrame'>\n",
      "DatetimeIndex: 503 entries, 2017-01-03 to 2018-12-31\n",
      "Data columns (total 4 columns):\n",
      " #   Column    Non-Null Count  Dtype  \n",
      "---  ------    --------------  -----  \n",
      " 0   Close     503 non-null    float64\n",
      " 1   LagClose  503 non-null    float64\n",
      " 2   Var       503 non-null    float64\n",
      " 3   NormVar   503 non-null    float64\n",
      "dtypes: float64(4)\n",
      "memory usage: 19.6 KB\n"
     ]
    }
   ],
   "source": [
    "day_stock_df.info()"
   ]
  },
  {
   "cell_type": "markdown",
   "metadata": {},
   "source": [
    "Calculate the percentage change in price from the previous day"
   ]
  },
  {
   "cell_type": "code",
   "execution_count": 301,
   "metadata": {},
   "outputs": [],
   "source": [
    "day_stock_df[\"PercentChange\"]=(day_stock_df[\"Close\"]-day_stock_df[\"LagClose\"])/day_stock_df[\"LagClose\"]*100"
   ]
  },
  {
   "cell_type": "markdown",
   "metadata": {},
   "source": [
    "Extract Month and Year from the index for grouping purposes"
   ]
  },
  {
   "cell_type": "code",
   "execution_count": 302,
   "metadata": {},
   "outputs": [],
   "source": [
    "day_stock_df[\"Date\"]=day_stock_df.index\n",
    "day_stock_df[\"Month\"]=day_stock_df[\"Date\"].apply(lambda x: x.month)\n",
    "day_stock_df[\"Year\"]=day_stock_df[\"Date\"].apply(lambda x: x.year)\n",
    "day_stock_df.drop(columns=[\"Date\"],inplace=True)"
   ]
  },
  {
   "cell_type": "markdown",
   "metadata": {},
   "source": [
    "Display data for a specific date range"
   ]
  },
  {
   "cell_type": "code",
   "execution_count": 303,
   "metadata": {},
   "outputs": [
    {
     "data": {
      "text/html": [
       "<div>\n",
       "<style scoped>\n",
       "    .dataframe tbody tr th:only-of-type {\n",
       "        vertical-align: middle;\n",
       "    }\n",
       "\n",
       "    .dataframe tbody tr th {\n",
       "        vertical-align: top;\n",
       "    }\n",
       "\n",
       "    .dataframe thead th {\n",
       "        text-align: right;\n",
       "    }\n",
       "</style>\n",
       "<table border=\"1\" class=\"dataframe\">\n",
       "  <thead>\n",
       "    <tr style=\"text-align: right;\">\n",
       "      <th></th>\n",
       "      <th>Close</th>\n",
       "      <th>LagClose</th>\n",
       "      <th>Var</th>\n",
       "      <th>NormVar</th>\n",
       "      <th>PercentChange</th>\n",
       "      <th>Month</th>\n",
       "      <th>Year</th>\n",
       "    </tr>\n",
       "    <tr>\n",
       "      <th>timestamp</th>\n",
       "      <th></th>\n",
       "      <th></th>\n",
       "      <th></th>\n",
       "      <th></th>\n",
       "      <th></th>\n",
       "      <th></th>\n",
       "      <th></th>\n",
       "    </tr>\n",
       "  </thead>\n",
       "  <tbody>\n",
       "    <tr>\n",
       "      <th>2018-09-10</th>\n",
       "      <td>10.2578</td>\n",
       "      <td>10.2578</td>\n",
       "      <td>0.003854</td>\n",
       "      <td>0.036385</td>\n",
       "      <td>0.000000</td>\n",
       "      <td>9</td>\n",
       "      <td>2018</td>\n",
       "    </tr>\n",
       "    <tr>\n",
       "      <th>2018-09-11</th>\n",
       "      <td>10.1151</td>\n",
       "      <td>10.2578</td>\n",
       "      <td>0.004317</td>\n",
       "      <td>0.040916</td>\n",
       "      <td>-1.391137</td>\n",
       "      <td>9</td>\n",
       "      <td>2018</td>\n",
       "    </tr>\n",
       "    <tr>\n",
       "      <th>2018-09-12</th>\n",
       "      <td>9.9058</td>\n",
       "      <td>10.1151</td>\n",
       "      <td>0.008350</td>\n",
       "      <td>0.080402</td>\n",
       "      <td>-2.069184</td>\n",
       "      <td>9</td>\n",
       "      <td>2018</td>\n",
       "    </tr>\n",
       "    <tr>\n",
       "      <th>2018-09-13</th>\n",
       "      <td>10.7337</td>\n",
       "      <td>9.9058</td>\n",
       "      <td>0.068359</td>\n",
       "      <td>0.667887</td>\n",
       "      <td>8.357730</td>\n",
       "      <td>9</td>\n",
       "      <td>2018</td>\n",
       "    </tr>\n",
       "    <tr>\n",
       "      <th>2018-09-14</th>\n",
       "      <td>10.6575</td>\n",
       "      <td>10.7337</td>\n",
       "      <td>0.014639</td>\n",
       "      <td>0.141972</td>\n",
       "      <td>-0.709914</td>\n",
       "      <td>9</td>\n",
       "      <td>2018</td>\n",
       "    </tr>\n",
       "    <tr>\n",
       "      <th>2018-09-17</th>\n",
       "      <td>10.9094</td>\n",
       "      <td>10.6575</td>\n",
       "      <td>0.010015</td>\n",
       "      <td>0.096705</td>\n",
       "      <td>2.363594</td>\n",
       "      <td>9</td>\n",
       "      <td>2018</td>\n",
       "    </tr>\n",
       "    <tr>\n",
       "      <th>2018-09-18</th>\n",
       "      <td>10.9582</td>\n",
       "      <td>10.9094</td>\n",
       "      <td>0.001586</td>\n",
       "      <td>0.014178</td>\n",
       "      <td>0.447321</td>\n",
       "      <td>9</td>\n",
       "      <td>2018</td>\n",
       "    </tr>\n",
       "    <tr>\n",
       "      <th>2018-09-19</th>\n",
       "      <td>10.8605</td>\n",
       "      <td>10.9582</td>\n",
       "      <td>0.011680</td>\n",
       "      <td>0.112998</td>\n",
       "      <td>-0.891570</td>\n",
       "      <td>9</td>\n",
       "      <td>2018</td>\n",
       "    </tr>\n",
       "    <tr>\n",
       "      <th>2018-09-20</th>\n",
       "      <td>11.1340</td>\n",
       "      <td>10.8605</td>\n",
       "      <td>0.003561</td>\n",
       "      <td>0.033513</td>\n",
       "      <td>2.518300</td>\n",
       "      <td>9</td>\n",
       "      <td>2018</td>\n",
       "    </tr>\n",
       "  </tbody>\n",
       "</table>\n",
       "</div>"
      ],
      "text/plain": [
       "              Close  LagClose       Var   NormVar  PercentChange  Month  Year\n",
       "timestamp                                                                    \n",
       "2018-09-10  10.2578   10.2578  0.003854  0.036385       0.000000      9  2018\n",
       "2018-09-11  10.1151   10.2578  0.004317  0.040916      -1.391137      9  2018\n",
       "2018-09-12   9.9058   10.1151  0.008350  0.080402      -2.069184      9  2018\n",
       "2018-09-13  10.7337    9.9058  0.068359  0.667887       8.357730      9  2018\n",
       "2018-09-14  10.6575   10.7337  0.014639  0.141972      -0.709914      9  2018\n",
       "2018-09-17  10.9094   10.6575  0.010015  0.096705       2.363594      9  2018\n",
       "2018-09-18  10.9582   10.9094  0.001586  0.014178       0.447321      9  2018\n",
       "2018-09-19  10.8605   10.9582  0.011680  0.112998      -0.891570      9  2018\n",
       "2018-09-20  11.1340   10.8605  0.003561  0.033513       2.518300      9  2018"
      ]
     },
     "execution_count": 303,
     "metadata": {},
     "output_type": "execute_result"
    }
   ],
   "source": [
    "day_stock_df.loc[\"2018-09-10\":\"2018-09-20\"]"
   ]
  },
  {
   "cell_type": "markdown",
   "metadata": {},
   "source": [
    " Plot a scatter plot of percentage change over time"
   ]
  },
  {
   "cell_type": "code",
   "execution_count": 304,
   "metadata": {},
   "outputs": [
    {
     "data": {
      "text/plain": [
       "<matplotlib.collections.PathCollection at 0x1e763f8d3a0>"
      ]
     },
     "execution_count": 304,
     "metadata": {},
     "output_type": "execute_result"
    },
    {
     "data": {
      "image/png": "[encoded data removed]",
      "text/plain": [
       "<Figure size 640x480 with 1 Axes>"
      ]
     },
     "metadata": {},
     "output_type": "display_data"
    }
   ],
   "source": [
    "plt.scatter(day_stock_df.index,day_stock_df[\"PercentChange\"])"
   ]
  },
  {
   "cell_type": "markdown",
   "metadata": {},
   "source": [
    "Split the data into two different dataframes based on the defined limit date"
   ]
  },
  {
   "cell_type": "code",
   "execution_count": 305,
   "metadata": {},
   "outputs": [],
   "source": [
    "first_year=day_stock_df[day_stock_df.index<middle_limit_date]\n",
    "second_year=day_stock_df[day_stock_df.index>middle_limit_date]"
   ]
  },
  {
   "cell_type": "markdown",
   "metadata": {},
   "source": [
    "Create a boxplot of the percentage change for each month of the first year"
   ]
  },
  {
   "cell_type": "code",
   "execution_count": 306,
   "metadata": {},
   "outputs": [
    {
     "data": {
      "text/plain": [
       "<Axes: xlabel='timestamp', ylabel='PercentChange'>"
      ]
     },
     "execution_count": 306,
     "metadata": {},
     "output_type": "execute_result"
    },
    {
     "data": {
      "image/png": "[encoded data removed]",
      "text/plain": [
       "<Figure size 2000x600 with 1 Axes>"
      ]
     },
     "metadata": {},
     "output_type": "display_data"
    }
   ],
   "source": [
    "plt.figure(figsize=(20, 6))\n",
    "sb.boxplot(y=first_year[\"PercentChange\"],x=first_year.index.month)"
   ]
  },
  {
   "cell_type": "markdown",
   "metadata": {},
   "source": [
    "Create a boxplot of the percentage change for each month of the second year"
   ]
  },
  {
   "cell_type": "code",
   "execution_count": 307,
   "metadata": {},
   "outputs": [
    {
     "data": {
      "text/plain": [
       "<Axes: xlabel='timestamp', ylabel='PercentChange'>"
      ]
     },
     "execution_count": 307,
     "metadata": {},
     "output_type": "execute_result"
    },
    {
     "data": {
      "image/png": "[encoded data removed]",
      "text/plain": [
       "<Figure size 2000x600 with 1 Axes>"
      ]
     },
     "metadata": {},
     "output_type": "display_data"
    }
   ],
   "source": [
    "plt.figure(figsize=(20, 6))\n",
    "sb.boxplot(y=second_year[\"PercentChange\"],x=second_year.index.month)"
   ]
  },
  {
   "cell_type": "markdown",
   "metadata": {},
   "source": [
    "Define a function to find outliers in a dataset based on the IQR method"
   ]
  },
  {
   "cell_type": "code",
   "execution_count": 308,
   "metadata": {},
   "outputs": [],
   "source": [
    "def find_outliers(df,column=\"PercentChange\"):\n",
    "    Q1 = df[column].quantile(0.25)\n",
    "    Q3 = df[column].quantile(0.75)\n",
    "    IQR = Q3 - Q1\n",
    "    lower_bound = Q1 - 1.5 * IQR\n",
    "    upper_bound = Q3 + 1.5 * IQR\n",
    "\n",
    "    outliers = df[(df[column] < lower_bound) | (df[column] > upper_bound)]\n",
    "    return outliers"
   ]
  },
  {
   "cell_type": "markdown",
   "metadata": {},
   "source": [
    "Loop through each year and month to find outliers"
   ]
  },
  {
   "cell_type": "code",
   "execution_count": 309,
   "metadata": {},
   "outputs": [],
   "source": [
    "flag=0\n",
    "for year in day_stock_df[\"Year\"].unique():\n",
    "    df_year=day_stock_df[day_stock_df[\"Year\"]== year]\n",
    "    for month in day_stock_df[\"Month\"].unique():\n",
    "        df=df_year[df_year[\"Month\"]==month]\n",
    "        if flag==0:\n",
    "            OC_outliers=find_outliers(df)\n",
    "            flag=1\n",
    "        else:\n",
    "            monthly_outliers=find_outliers(df)\n",
    "            OC_outliers=pd.concat([OC_outliers,monthly_outliers])"
   ]
  },
  {
   "cell_type": "markdown",
   "metadata": {},
   "source": [
    " Similar loop to find outliers within a 15-day period before and after each month"
   ]
  },
  {
   "cell_type": "code",
   "execution_count": 310,
   "metadata": {},
   "outputs": [],
   "source": [
    "flag=0\n",
    "for year in day_stock_df[\"Year\"].unique():\n",
    "    df_year=day_stock_df[day_stock_df[\"Year\"]== year]\n",
    "    for month in day_stock_df[\"Month\"].unique():\n",
    "        if month==1:\n",
    "            start_date = str(year-1)+\"-\"+str(12)+\"-15\"\n",
    "            end_date = str(year)+\"-\"+str(month)+\"-15\"\n",
    "        else:\n",
    "            start_date = str(year)+\"-\"+str(month-1)+\"-15\"\n",
    "            end_date = str(year)+\"-\"+str(month)+\"-15\"\n",
    "        df=df_year.loc[start_date:end_date]\n",
    "        if flag==0:\n",
    "            OC_outliers15=find_outliers(df)\n",
    "            flag=1\n",
    "        else:\n",
    "            monthly_outliers=find_outliers(df)\n",
    "            OC_outliers15=pd.concat([OC_outliers15,monthly_outliers])"
   ]
  },
  {
   "cell_type": "markdown",
   "metadata": {},
   "source": [
    " Find the common indices between the two outlier dataframes"
   ]
  },
  {
   "cell_type": "code",
   "execution_count": 311,
   "metadata": {},
   "outputs": [],
   "source": [
    "common_indexs = OC_outliers.index.intersection(OC_outliers15.index)"
   ]
  },
  {
   "cell_type": "markdown",
   "metadata": {},
   "source": [
    "Get the outliers that are common in both periods"
   ]
  },
  {
   "cell_type": "code",
   "execution_count": 312,
   "metadata": {},
   "outputs": [],
   "source": [
    "outliers=OC_outliers.loc[common_indexs]"
   ]
  },
  {
   "cell_type": "markdown",
   "metadata": {},
   "source": [
    "Display the common outliers"
   ]
  },
  {
   "cell_type": "code",
   "execution_count": 313,
   "metadata": {},
   "outputs": [
    {
     "data": {
      "text/html": [
       "<div>\n",
       "<style scoped>\n",
       "    .dataframe tbody tr th:only-of-type {\n",
       "        vertical-align: middle;\n",
       "    }\n",
       "\n",
       "    .dataframe tbody tr th {\n",
       "        vertical-align: top;\n",
       "    }\n",
       "\n",
       "    .dataframe thead th {\n",
       "        text-align: right;\n",
       "    }\n",
       "</style>\n",
       "<table border=\"1\" class=\"dataframe\">\n",
       "  <thead>\n",
       "    <tr style=\"text-align: right;\">\n",
       "      <th></th>\n",
       "      <th>Close</th>\n",
       "      <th>LagClose</th>\n",
       "      <th>Var</th>\n",
       "      <th>NormVar</th>\n",
       "      <th>PercentChange</th>\n",
       "      <th>Month</th>\n",
       "      <th>Year</th>\n",
       "    </tr>\n",
       "    <tr>\n",
       "      <th>timestamp</th>\n",
       "      <th></th>\n",
       "      <th></th>\n",
       "      <th></th>\n",
       "      <th></th>\n",
       "      <th></th>\n",
       "      <th></th>\n",
       "      <th></th>\n",
       "    </tr>\n",
       "  </thead>\n",
       "  <tbody>\n",
       "    <tr>\n",
       "      <th>2017-04-20</th>\n",
       "      <td>10.1600</td>\n",
       "      <td>9.9259</td>\n",
       "      <td>0.004446</td>\n",
       "      <td>0.042182</td>\n",
       "      <td>2.358476</td>\n",
       "      <td>4</td>\n",
       "      <td>2017</td>\n",
       "    </tr>\n",
       "    <tr>\n",
       "      <th>2017-05-04</th>\n",
       "      <td>9.5162</td>\n",
       "      <td>10.2687</td>\n",
       "      <td>0.001431</td>\n",
       "      <td>0.012664</td>\n",
       "      <td>-7.328094</td>\n",
       "      <td>5</td>\n",
       "      <td>2017</td>\n",
       "    </tr>\n",
       "    <tr>\n",
       "      <th>2017-07-07</th>\n",
       "      <td>10.0893</td>\n",
       "      <td>10.2457</td>\n",
       "      <td>0.001078</td>\n",
       "      <td>0.009207</td>\n",
       "      <td>-1.526494</td>\n",
       "      <td>7</td>\n",
       "      <td>2017</td>\n",
       "    </tr>\n",
       "    <tr>\n",
       "      <th>2017-11-01</th>\n",
       "      <td>13.4303</td>\n",
       "      <td>12.7637</td>\n",
       "      <td>0.040955</td>\n",
       "      <td>0.399601</td>\n",
       "      <td>5.222624</td>\n",
       "      <td>11</td>\n",
       "      <td>2017</td>\n",
       "    </tr>\n",
       "    <tr>\n",
       "      <th>2017-11-02</th>\n",
       "      <td>12.7997</td>\n",
       "      <td>13.4303</td>\n",
       "      <td>0.102282</td>\n",
       "      <td>1.000000</td>\n",
       "      <td>-4.695353</td>\n",
       "      <td>11</td>\n",
       "      <td>2017</td>\n",
       "    </tr>\n",
       "    <tr>\n",
       "      <th>2018-02-20</th>\n",
       "      <td>13.5576</td>\n",
       "      <td>14.2629</td>\n",
       "      <td>0.041883</td>\n",
       "      <td>0.408686</td>\n",
       "      <td>-4.944997</td>\n",
       "      <td>2</td>\n",
       "      <td>2018</td>\n",
       "    </tr>\n",
       "    <tr>\n",
       "      <th>2018-07-10</th>\n",
       "      <td>11.5234</td>\n",
       "      <td>12.2751</td>\n",
       "      <td>0.046620</td>\n",
       "      <td>0.455062</td>\n",
       "      <td>-6.123779</td>\n",
       "      <td>7</td>\n",
       "      <td>2018</td>\n",
       "    </tr>\n",
       "    <tr>\n",
       "      <th>2018-07-11</th>\n",
       "      <td>10.7337</td>\n",
       "      <td>11.5234</td>\n",
       "      <td>0.031914</td>\n",
       "      <td>0.311088</td>\n",
       "      <td>-6.853012</td>\n",
       "      <td>7</td>\n",
       "      <td>2018</td>\n",
       "    </tr>\n",
       "    <tr>\n",
       "      <th>2018-09-07</th>\n",
       "      <td>10.2578</td>\n",
       "      <td>9.8012</td>\n",
       "      <td>0.015909</td>\n",
       "      <td>0.154403</td>\n",
       "      <td>4.658613</td>\n",
       "      <td>9</td>\n",
       "      <td>2018</td>\n",
       "    </tr>\n",
       "    <tr>\n",
       "      <th>2018-09-13</th>\n",
       "      <td>10.7337</td>\n",
       "      <td>9.9058</td>\n",
       "      <td>0.068359</td>\n",
       "      <td>0.667887</td>\n",
       "      <td>8.357730</td>\n",
       "      <td>9</td>\n",
       "      <td>2018</td>\n",
       "    </tr>\n",
       "  </tbody>\n",
       "</table>\n",
       "</div>"
      ],
      "text/plain": [
       "              Close  LagClose       Var   NormVar  PercentChange  Month  Year\n",
       "timestamp                                                                    \n",
       "2017-04-20  10.1600    9.9259  0.004446  0.042182       2.358476      4  2017\n",
       "2017-05-04   9.5162   10.2687  0.001431  0.012664      -7.328094      5  2017\n",
       "2017-07-07  10.0893   10.2457  0.001078  0.009207      -1.526494      7  2017\n",
       "2017-11-01  13.4303   12.7637  0.040955  0.399601       5.222624     11  2017\n",
       "2017-11-02  12.7997   13.4303  0.102282  1.000000      -4.695353     11  2017\n",
       "2018-02-20  13.5576   14.2629  0.041883  0.408686      -4.944997      2  2018\n",
       "2018-07-10  11.5234   12.2751  0.046620  0.455062      -6.123779      7  2018\n",
       "2018-07-11  10.7337   11.5234  0.031914  0.311088      -6.853012      7  2018\n",
       "2018-09-07  10.2578    9.8012  0.015909  0.154403       4.658613      9  2018\n",
       "2018-09-13  10.7337    9.9058  0.068359  0.667887       8.357730      9  2018"
      ]
     },
     "execution_count": 313,
     "metadata": {},
     "output_type": "execute_result"
    }
   ],
   "source": [
    "outliers"
   ]
  },
  {
   "cell_type": "markdown",
   "metadata": {},
   "source": [
    " Save the common outliers to a CSV file in the specified directory"
   ]
  },
  {
   "cell_type": "code",
   "execution_count": 314,
   "metadata": {},
   "outputs": [],
   "source": [
    "outliers.to_csv(\"outliers/\"+stock+\"_outliers.csv\")"
   ]
  }
 ],
 "metadata": {
  "kernelspec": {
   "display_name": "Python 3",
   "language": "python",
   "name": "python3"
  },
  "language_info": {
   "codemirror_mode": {
    "name": "ipython",
    "version": 3
   },
   "file_extension": ".py",
   "mimetype": "text/x-python",
   "name": "python",
   "nbconvert_exporter": "python",
   "pygments_lexer": "ipython3",
   "version": "3.12.0"
  }
 },
 "nbformat": 4,
 "nbformat_minor": 2
}
